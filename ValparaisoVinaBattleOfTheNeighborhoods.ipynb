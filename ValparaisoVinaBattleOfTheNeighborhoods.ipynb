{
    "cells": [
        {
            "metadata": {
                "collapsed": true
            },
            "cell_type": "markdown",
            "source": "# Valparaiso vs. Vi\u00f1a del Mar\n## Peer-graded Assignment: Capstone Project - The Battle of Neighborhoods\n### Instructions:\n\n>Now that you have been equipped with the skills and the tools to use location data to explore a geographical location, over the course of two weeks, you will have the opportunity to be as creative as you want and come up with an idea to leverage the Foursquare location data to explore or compare neighborhoods or cities of your choice or to come up with a problem that you can use the Foursquare location data to solve. If you cannot think of an idea or a problem, here are some ideas to get you started:\n\n>1. In Module 3, we explored New York City and the city of Toronto and segmented and clustered their neighborhoods. Both cities are very diverse and are the financial capitals of their respective countries. One interesting idea would be to compare the neighborhoods of the two cities and determine how similar or dissimilar they are. Is New York City more like Toronto or Paris or some other multicultural city? I will leave it to you to refine this idea.\n>2. In a city of your choice, if someone is looking to open a restaurant, where would you recommend that they open it? Similarly, if a contractor is trying to start their own business, where would you recommend that they setup their office?\n\n>These are just a couple of many ideas and problems that can be solved using location data in addition to other datasets. No matter what you decide to do, make sure to provide sufficient justification of why you think what you want to do or solve is important and why would a client or a group of people be interested in your project.\n\n>### Review criteria\n\n>This capstone project will be graded by your peers. This capstone project is worth 70% of your total grade. The project will be completed over the course of 2 weeks.  Week 1 submissions will be worth 30% whereas week 2 submissions will be worth 40% of your total grade.\n\n>#### For week 1, you will required to submit the following:\n\n>1. A description of the problem and a discussion of the background. (15 marks)\n>2. A description of the data and how it will be used to solve the problem. (15 marks)\n\n>#### For week 2, the final deliverables of the project will be:\n\n>1. A link to your Notebook on your Github repository, showing your code. (15 marks)\n>2. A full report consisting of all of the following components (15 marks):\n>    - Introduction where you discuss the business problem and who would be interested in this project.\n>    - Data where you describe the data that will be used to solve the problem and the source of the data.\n>    - Methodology section which represents the main component of the report where you discuss and describe any exploratory data analysis that you did, any inferential statistical testing that you performed, if any, and what machine learnings were used and why.\n>    - Results section where you discuss the results.\n>    - Discussion section where you discuss any observations you noted and any recommendations you can make based on the results.\n>    - Conclusion section where you conclude the report.\n>3. Your choice of a presentation or blogpost. (10 marks)\n___"
        },
        {
            "metadata": {},
            "cell_type": "markdown",
            "source": "# Valparaiso vs. Vi\u00f1a del Mar\n# WEEK 1\n## Introduction/Business Problem\n### A description of the problem and a discussion of the background. (15 marks)\nIn my country, Chile, there are two cities very close to each other but very different too: Santiago and Valparaiso. Both are very touristic cities but there are very noticeable differences when you travel there, such as Vi\u00f1a del Mar being way wealthier than Valparaiso, having more commerce and big events, but Valparaiso has a lot of more historical places, trading, and old stores that refuse to die. These differences are very important to take into account when trying to open a specific business in one of those two cities, therefore it would be very valuable to have insights obtained from real data in order to give eventual business owners and enterpreneurs the opportunity to make an informed decision.\n\n## Data\n### A description of the data and how it will be used to solve the problem. (15 marks)\nThe data available at Foursquare gives the unique oportunity of clustering neighborhoods based on the venues that are in them, thus allowing to compare specific areas of a city and compare that with areas from another city. To gain insights about what kind of business should be made within a city (and where in the city, too), I would like to compare both cities using Foursquare's API and finally be able to point out the advantages of one city over the other when trying to open a business in certain areas. This way, I will recommend to a client to open a specific store at one of the two cities (for example) because there's less competition, the current venues aren't highly rated or any other kind of indicator that will be obtained when working with the data."
        },
        {
            "metadata": {},
            "cell_type": "code",
            "source": "",
            "execution_count": null,
            "outputs": []
        }
    ],
    "metadata": {
        "kernelspec": {
            "name": "python3",
            "display_name": "Python 3.7",
            "language": "python"
        },
        "language_info": {
            "name": "python",
            "version": "3.7.9",
            "mimetype": "text/x-python",
            "codemirror_mode": {
                "name": "ipython",
                "version": 3
            },
            "pygments_lexer": "ipython3",
            "nbconvert_exporter": "python",
            "file_extension": ".py"
        }
    },
    "nbformat": 4,
    "nbformat_minor": 1
}